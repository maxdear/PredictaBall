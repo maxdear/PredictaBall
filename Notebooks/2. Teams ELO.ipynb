{
 "cells": [
  {
   "cell_type": "markdown",
   "metadata": {},
   "source": [
    "# Using Club ELO's API to gather ELO ratings of all clubs over each season"
   ]
  },
  {
   "cell_type": "code",
   "execution_count": 1,
   "metadata": {},
   "outputs": [],
   "source": [
    "import pandas as pd\n",
    "import numpy as np\n",
    "import requests"
   ]
  },
  {
   "cell_type": "code",
   "execution_count": 2,
   "metadata": {},
   "outputs": [],
   "source": [
    "df1920 = pd.read_csv('../CSV/19-20.csv')\n",
    "df1819 = pd.read_csv('../CSV/season-1819_csv.csv')"
   ]
  },
  {
   "cell_type": "code",
   "execution_count": 3,
   "metadata": {
    "scrolled": false
   },
   "outputs": [
    {
     "data": {
      "text/plain": [
       "array(['Liverpool', 'West Ham', 'Bournemouth', 'Burnley',\n",
       "       'Crystal Palace', 'Watford', 'Tottenham', 'Leicester', 'Newcastle',\n",
       "       'Man United', 'Arsenal', 'Aston Villa', 'Brighton', 'Everton',\n",
       "       'Norwich', 'Southampton', 'Man City', 'Sheffield United',\n",
       "       'Chelsea', 'Wolves'], dtype=object)"
      ]
     },
     "execution_count": 3,
     "metadata": {},
     "output_type": "execute_result"
    }
   ],
   "source": [
    "df1920.HomeTeam.unique()"
   ]
  },
  {
   "cell_type": "code",
   "execution_count": 4,
   "metadata": {},
   "outputs": [
    {
     "data": {
      "text/plain": [
       "array(['Man United', 'Bournemouth', 'Fulham', 'Huddersfield', 'Newcastle',\n",
       "       'Watford', 'Wolves', 'Arsenal', 'Liverpool', 'Southampton',\n",
       "       'Cardiff', 'Chelsea', 'Everton', 'Leicester', 'Tottenham',\n",
       "       'West Ham', 'Brighton', 'Burnley', 'Man City', 'Crystal Palace'],\n",
       "      dtype=object)"
      ]
     },
     "execution_count": 4,
     "metadata": {},
     "output_type": "execute_result"
    }
   ],
   "source": [
    "df1819.HomeTeam.unique()"
   ]
  },
  {
   "cell_type": "code",
   "execution_count": 5,
   "metadata": {},
   "outputs": [],
   "source": [
    "def Remove(duplicate): \n",
    "    \"\"\" a function to remove duplicates from a list \"\"\"\n",
    "    final_list = [] \n",
    "    for name in duplicate: \n",
    "        if name not in final_list: \n",
    "            final_list.append(name) \n",
    "    return final_list "
   ]
  },
  {
   "cell_type": "code",
   "execution_count": 6,
   "metadata": {},
   "outputs": [],
   "source": [
    "all_clubs = list(df1920.HomeTeam.unique()) + list(df1819.HomeTeam.unique())"
   ]
  },
  {
   "cell_type": "code",
   "execution_count": 7,
   "metadata": {},
   "outputs": [
    {
     "data": {
      "text/plain": [
       "23"
      ]
     },
     "execution_count": 7,
     "metadata": {},
     "output_type": "execute_result"
    }
   ],
   "source": [
    "club_list = Remove(all_clubs)\n",
    "len(club_list)"
   ]
  },
  {
   "cell_type": "code",
   "execution_count": 9,
   "metadata": {},
   "outputs": [],
   "source": [
    "clubs = club_list\n",
    "\n",
    "new_clubs = []\n",
    "for i in clubs:\n",
    "    new_clubs.append(i.replace(\" \", \"\"))  #remove any spaces as these don't work in the url for the API\n",
    "    \n",
    "clubs = new_clubs"
   ]
  },
  {
   "cell_type": "code",
   "execution_count": 10,
   "metadata": {},
   "outputs": [],
   "source": [
    "# Commented out so don't accidently run the scraper unnecesarily\n",
    "# You need to run this if doing from scratch though\n",
    "\n",
    "#for i in clubs:\n",
    "    # csv = requests.get('http://api.clubelo.com/{}'.format(i))\n",
    "    \n",
    "   #  with open('{}.csv'.format(i), 'w+') as f:\n",
    "     #   f.write(csv.text)\n",
    "\n",
    "\n",
    "#the csv files for each club were later moved to the CSV file however for the purpose of this notebook they were kept in the working directory\n"
   ]
  },
  {
   "cell_type": "code",
   "execution_count": 11,
   "metadata": {},
   "outputs": [],
   "source": [
    " #create an empty df to append the cleaned csv's to\n",
    "\n",
    "ELO = pd.DataFrame()\n",
    "\n",
    "\n",
    "for i in clubs:\n",
    "    \n",
    "    club_df = pd.read_csv('{}.csv'.format(i)) # open each csv\n",
    "    \n",
    "    # convert date column to datetime format\n",
    "    try:\n",
    "        club_df['Date'] = pd.to_datetime(club_df['To'])\n",
    "    except:\n",
    "        club_df['Date'] = pd.to_datetime(club_df['To'])\n",
    "    # set date as index \n",
    "    club_df.set_index('Date', inplace=True, drop=True)\n",
    "    # drop redundent columns\n",
    "    club_df.drop(columns=['From', 'To', 'Level', 'Country', 'Rank'], inplace=True)\n",
    "    \n",
    "    # subset the relevant periods\n",
    "    club_df = club_df[(club_df.index >= '2018-07') & (club_df.index <= pd.to_datetime('2019-12-30'))]\n",
    "    \n",
    "    club_df = club_df.resample('1D').ffill()\n",
    "    \n",
    "    # combine cleaned df with all_elo\n",
    "    ELO = pd.concat([ELO, club_df])"
   ]
  },
  {
   "cell_type": "code",
   "execution_count": 12,
   "metadata": {
    "scrolled": true
   },
   "outputs": [
    {
     "data": {
      "text/plain": [
       "(11841, 2)"
      ]
     },
     "execution_count": 12,
     "metadata": {},
     "output_type": "execute_result"
    }
   ],
   "source": [
    "ELO.shape"
   ]
  },
  {
   "cell_type": "code",
   "execution_count": 13,
   "metadata": {
    "scrolled": true
   },
   "outputs": [
    {
     "data": {
      "text/html": [
       "<div>\n",
       "<style scoped>\n",
       "    .dataframe tbody tr th:only-of-type {\n",
       "        vertical-align: middle;\n",
       "    }\n",
       "\n",
       "    .dataframe tbody tr th {\n",
       "        vertical-align: top;\n",
       "    }\n",
       "\n",
       "    .dataframe thead th {\n",
       "        text-align: right;\n",
       "    }\n",
       "</style>\n",
       "<table border=\"1\" class=\"dataframe\">\n",
       "  <thead>\n",
       "    <tr style=\"text-align: right;\">\n",
       "      <th></th>\n",
       "      <th>Club</th>\n",
       "      <th>Elo</th>\n",
       "    </tr>\n",
       "    <tr>\n",
       "      <th>Date</th>\n",
       "      <th></th>\n",
       "      <th></th>\n",
       "    </tr>\n",
       "  </thead>\n",
       "  <tbody>\n",
       "    <tr>\n",
       "      <th>2019-12-14</th>\n",
       "      <td>Cardiff</td>\n",
       "      <td>1571.067993</td>\n",
       "    </tr>\n",
       "    <tr>\n",
       "      <th>2019-12-15</th>\n",
       "      <td>Cardiff</td>\n",
       "      <td>1571.067993</td>\n",
       "    </tr>\n",
       "    <tr>\n",
       "      <th>2019-12-16</th>\n",
       "      <td>Cardiff</td>\n",
       "      <td>1571.067993</td>\n",
       "    </tr>\n",
       "    <tr>\n",
       "      <th>2019-12-17</th>\n",
       "      <td>Cardiff</td>\n",
       "      <td>1571.067993</td>\n",
       "    </tr>\n",
       "    <tr>\n",
       "      <th>2019-12-18</th>\n",
       "      <td>Cardiff</td>\n",
       "      <td>1571.067993</td>\n",
       "    </tr>\n",
       "  </tbody>\n",
       "</table>\n",
       "</div>"
      ],
      "text/plain": [
       "               Club          Elo\n",
       "Date                            \n",
       "2019-12-14  Cardiff  1571.067993\n",
       "2019-12-15  Cardiff  1571.067993\n",
       "2019-12-16  Cardiff  1571.067993\n",
       "2019-12-17  Cardiff  1571.067993\n",
       "2019-12-18  Cardiff  1571.067993"
      ]
     },
     "execution_count": 13,
     "metadata": {},
     "output_type": "execute_result"
    }
   ],
   "source": [
    "ELO.tail()"
   ]
  },
  {
   "cell_type": "code",
   "execution_count": 14,
   "metadata": {
    "scrolled": true
   },
   "outputs": [
    {
     "data": {
      "text/plain": [
       "array(['Arsenal', 'Aston Villa', 'Bournemouth', 'Brighton', 'Burnley',\n",
       "       'Cardiff', 'Chelsea', 'Crystal Palace', 'Everton', 'Fulham',\n",
       "       'Huddersfield', 'Leicester', 'Liverpool', 'Man City', 'Man United',\n",
       "       'Newcastle', 'Norwich', 'Sheffield United', 'Southampton',\n",
       "       'Tottenham', 'Watford', 'West Ham', 'Wolves'], dtype=object)"
      ]
     },
     "execution_count": 14,
     "metadata": {},
     "output_type": "execute_result"
    }
   ],
   "source": [
    "ELO.Club.sort_values().unique()"
   ]
  },
  {
   "cell_type": "code",
   "execution_count": 15,
   "metadata": {},
   "outputs": [],
   "source": [
    "standings = pd.read_csv('../CSV/LP.csv')"
   ]
  },
  {
   "cell_type": "code",
   "execution_count": 16,
   "metadata": {},
   "outputs": [
    {
     "data": {
      "text/plain": [
       "array(['Arsenal', 'Aston Villa', 'Bournemouth', 'Brighton', 'Burnley',\n",
       "       'Cardiff', 'Chelsea', 'Crystal Palace', 'Everton', 'Fulham',\n",
       "       'Huddersfield', 'Leicester', 'Liverpool', 'Man City', 'Man United',\n",
       "       'Newcastle', 'Norwich', 'Sheffield United', 'Southampton',\n",
       "       'Tottenham', 'Watford', 'West Ham', 'Wolves'], dtype=object)"
      ]
     },
     "execution_count": 16,
     "metadata": {},
     "output_type": "execute_result"
    }
   ],
   "source": [
    "standings.Team.sort_values().unique()"
   ]
  },
  {
   "cell_type": "code",
   "execution_count": 17,
   "metadata": {},
   "outputs": [
    {
     "data": {
      "text/plain": [
       "array([ True,  True,  True,  True,  True,  True,  True,  True,  True,\n",
       "        True,  True,  True,  True,  True,  True,  True,  True,  True,\n",
       "        True,  True,  True,  True,  True])"
      ]
     },
     "execution_count": 17,
     "metadata": {},
     "output_type": "execute_result"
    }
   ],
   "source": [
    "standings.Team.sort_values().unique() == ELO.Club.sort_values().unique() \n",
    "#double check all the team names are the same"
   ]
  },
  {
   "cell_type": "code",
   "execution_count": 18,
   "metadata": {},
   "outputs": [
    {
     "data": {
      "text/html": [
       "<div>\n",
       "<style scoped>\n",
       "    .dataframe tbody tr th:only-of-type {\n",
       "        vertical-align: middle;\n",
       "    }\n",
       "\n",
       "    .dataframe tbody tr th {\n",
       "        vertical-align: top;\n",
       "    }\n",
       "\n",
       "    .dataframe thead th {\n",
       "        text-align: right;\n",
       "    }\n",
       "</style>\n",
       "<table border=\"1\" class=\"dataframe\">\n",
       "  <thead>\n",
       "    <tr style=\"text-align: right;\">\n",
       "      <th></th>\n",
       "      <th>Position</th>\n",
       "      <th>Team</th>\n",
       "      <th>Points</th>\n",
       "      <th>Goal_Difference</th>\n",
       "      <th>Played</th>\n",
       "      <th>Date</th>\n",
       "    </tr>\n",
       "  </thead>\n",
       "  <tbody>\n",
       "    <tr>\n",
       "      <th>0</th>\n",
       "      <td>1</td>\n",
       "      <td>Bournemouth</td>\n",
       "      <td>0</td>\n",
       "      <td>0</td>\n",
       "      <td>0</td>\n",
       "      <td>2018-08-10</td>\n",
       "    </tr>\n",
       "    <tr>\n",
       "      <th>1</th>\n",
       "      <td>1</td>\n",
       "      <td>Arsenal</td>\n",
       "      <td>0</td>\n",
       "      <td>0</td>\n",
       "      <td>0</td>\n",
       "      <td>2018-08-10</td>\n",
       "    </tr>\n",
       "    <tr>\n",
       "      <th>2</th>\n",
       "      <td>1</td>\n",
       "      <td>Brighton</td>\n",
       "      <td>0</td>\n",
       "      <td>0</td>\n",
       "      <td>0</td>\n",
       "      <td>2018-08-10</td>\n",
       "    </tr>\n",
       "    <tr>\n",
       "      <th>3</th>\n",
       "      <td>1</td>\n",
       "      <td>Burnley</td>\n",
       "      <td>0</td>\n",
       "      <td>0</td>\n",
       "      <td>0</td>\n",
       "      <td>2018-08-10</td>\n",
       "    </tr>\n",
       "    <tr>\n",
       "      <th>4</th>\n",
       "      <td>1</td>\n",
       "      <td>Cardiff</td>\n",
       "      <td>0</td>\n",
       "      <td>0</td>\n",
       "      <td>0</td>\n",
       "      <td>2018-08-10</td>\n",
       "    </tr>\n",
       "  </tbody>\n",
       "</table>\n",
       "</div>"
      ],
      "text/plain": [
       "   Position         Team  Points  Goal_Difference  Played        Date\n",
       "0         1  Bournemouth       0                0       0  2018-08-10\n",
       "1         1      Arsenal       0                0       0  2018-08-10\n",
       "2         1     Brighton       0                0       0  2018-08-10\n",
       "3         1      Burnley       0                0       0  2018-08-10\n",
       "4         1      Cardiff       0                0       0  2018-08-10"
      ]
     },
     "execution_count": 18,
     "metadata": {},
     "output_type": "execute_result"
    }
   ],
   "source": [
    "standings.head()"
   ]
  },
  {
   "cell_type": "code",
   "execution_count": 19,
   "metadata": {},
   "outputs": [],
   "source": [
    "standings.set_index('Date', drop=False, inplace = True)"
   ]
  },
  {
   "cell_type": "code",
   "execution_count": 20,
   "metadata": {},
   "outputs": [],
   "source": [
    "standings['Link'] = [str(i)+n[:5] for i, n in zip(standings.index, standings.Team)] \n",
    "#create specific link between club and data to act as a key for merging"
   ]
  },
  {
   "cell_type": "code",
   "execution_count": 22,
   "metadata": {},
   "outputs": [],
   "source": [
    "ELO['Link'] = [str(i)[:10]+n[:5] for i, n in zip(ELO.index, ELO.Club)]"
   ]
  },
  {
   "cell_type": "code",
   "execution_count": 23,
   "metadata": {},
   "outputs": [
    {
     "data": {
      "text/html": [
       "<div>\n",
       "<style scoped>\n",
       "    .dataframe tbody tr th:only-of-type {\n",
       "        vertical-align: middle;\n",
       "    }\n",
       "\n",
       "    .dataframe tbody tr th {\n",
       "        vertical-align: top;\n",
       "    }\n",
       "\n",
       "    .dataframe thead th {\n",
       "        text-align: right;\n",
       "    }\n",
       "</style>\n",
       "<table border=\"1\" class=\"dataframe\">\n",
       "  <thead>\n",
       "    <tr style=\"text-align: right;\">\n",
       "      <th></th>\n",
       "      <th>Club</th>\n",
       "      <th>Elo</th>\n",
       "      <th>Link</th>\n",
       "    </tr>\n",
       "    <tr>\n",
       "      <th>Date</th>\n",
       "      <th></th>\n",
       "      <th></th>\n",
       "      <th></th>\n",
       "    </tr>\n",
       "  </thead>\n",
       "  <tbody>\n",
       "    <tr>\n",
       "      <th>2018-07-26</th>\n",
       "      <td>Liverpool</td>\n",
       "      <td>1913.856445</td>\n",
       "      <td>2018-07-26Liver</td>\n",
       "    </tr>\n",
       "    <tr>\n",
       "      <th>2018-07-27</th>\n",
       "      <td>Liverpool</td>\n",
       "      <td>1913.856445</td>\n",
       "      <td>2018-07-27Liver</td>\n",
       "    </tr>\n",
       "    <tr>\n",
       "      <th>2018-07-28</th>\n",
       "      <td>Liverpool</td>\n",
       "      <td>1913.856445</td>\n",
       "      <td>2018-07-28Liver</td>\n",
       "    </tr>\n",
       "    <tr>\n",
       "      <th>2018-07-29</th>\n",
       "      <td>Liverpool</td>\n",
       "      <td>1913.856445</td>\n",
       "      <td>2018-07-29Liver</td>\n",
       "    </tr>\n",
       "    <tr>\n",
       "      <th>2018-07-30</th>\n",
       "      <td>Liverpool</td>\n",
       "      <td>1913.856445</td>\n",
       "      <td>2018-07-30Liver</td>\n",
       "    </tr>\n",
       "    <tr>\n",
       "      <th>2018-07-31</th>\n",
       "      <td>Liverpool</td>\n",
       "      <td>1913.856445</td>\n",
       "      <td>2018-07-31Liver</td>\n",
       "    </tr>\n",
       "    <tr>\n",
       "      <th>2018-08-01</th>\n",
       "      <td>Liverpool</td>\n",
       "      <td>1913.856445</td>\n",
       "      <td>2018-08-01Liver</td>\n",
       "    </tr>\n",
       "    <tr>\n",
       "      <th>2018-08-02</th>\n",
       "      <td>Liverpool</td>\n",
       "      <td>1913.885986</td>\n",
       "      <td>2018-08-02Liver</td>\n",
       "    </tr>\n",
       "    <tr>\n",
       "      <th>2018-08-03</th>\n",
       "      <td>Liverpool</td>\n",
       "      <td>1913.885986</td>\n",
       "      <td>2018-08-03Liver</td>\n",
       "    </tr>\n",
       "    <tr>\n",
       "      <th>2018-08-04</th>\n",
       "      <td>Liverpool</td>\n",
       "      <td>1913.885986</td>\n",
       "      <td>2018-08-04Liver</td>\n",
       "    </tr>\n",
       "    <tr>\n",
       "      <th>2018-08-05</th>\n",
       "      <td>Liverpool</td>\n",
       "      <td>1913.885986</td>\n",
       "      <td>2018-08-05Liver</td>\n",
       "    </tr>\n",
       "    <tr>\n",
       "      <th>2018-08-06</th>\n",
       "      <td>Liverpool</td>\n",
       "      <td>1913.885986</td>\n",
       "      <td>2018-08-06Liver</td>\n",
       "    </tr>\n",
       "    <tr>\n",
       "      <th>2018-08-07</th>\n",
       "      <td>Liverpool</td>\n",
       "      <td>1913.885986</td>\n",
       "      <td>2018-08-07Liver</td>\n",
       "    </tr>\n",
       "    <tr>\n",
       "      <th>2018-08-08</th>\n",
       "      <td>Liverpool</td>\n",
       "      <td>1913.885986</td>\n",
       "      <td>2018-08-08Liver</td>\n",
       "    </tr>\n",
       "    <tr>\n",
       "      <th>2018-08-09</th>\n",
       "      <td>Liverpool</td>\n",
       "      <td>1914.838867</td>\n",
       "      <td>2018-08-09Liver</td>\n",
       "    </tr>\n",
       "    <tr>\n",
       "      <th>2018-08-10</th>\n",
       "      <td>Liverpool</td>\n",
       "      <td>1914.838867</td>\n",
       "      <td>2018-08-10Liver</td>\n",
       "    </tr>\n",
       "    <tr>\n",
       "      <th>2018-08-11</th>\n",
       "      <td>Liverpool</td>\n",
       "      <td>1915.229004</td>\n",
       "      <td>2018-08-11Liver</td>\n",
       "    </tr>\n",
       "    <tr>\n",
       "      <th>2018-08-12</th>\n",
       "      <td>Liverpool</td>\n",
       "      <td>1915.229004</td>\n",
       "      <td>2018-08-12Liver</td>\n",
       "    </tr>\n",
       "    <tr>\n",
       "      <th>2018-08-13</th>\n",
       "      <td>Liverpool</td>\n",
       "      <td>1915.229004</td>\n",
       "      <td>2018-08-13Liver</td>\n",
       "    </tr>\n",
       "    <tr>\n",
       "      <th>2018-08-14</th>\n",
       "      <td>Liverpool</td>\n",
       "      <td>1915.229004</td>\n",
       "      <td>2018-08-14Liver</td>\n",
       "    </tr>\n",
       "  </tbody>\n",
       "</table>\n",
       "</div>"
      ],
      "text/plain": [
       "                 Club          Elo             Link\n",
       "Date                                               \n",
       "2018-07-26  Liverpool  1913.856445  2018-07-26Liver\n",
       "2018-07-27  Liverpool  1913.856445  2018-07-27Liver\n",
       "2018-07-28  Liverpool  1913.856445  2018-07-28Liver\n",
       "2018-07-29  Liverpool  1913.856445  2018-07-29Liver\n",
       "2018-07-30  Liverpool  1913.856445  2018-07-30Liver\n",
       "2018-07-31  Liverpool  1913.856445  2018-07-31Liver\n",
       "2018-08-01  Liverpool  1913.856445  2018-08-01Liver\n",
       "2018-08-02  Liverpool  1913.885986  2018-08-02Liver\n",
       "2018-08-03  Liverpool  1913.885986  2018-08-03Liver\n",
       "2018-08-04  Liverpool  1913.885986  2018-08-04Liver\n",
       "2018-08-05  Liverpool  1913.885986  2018-08-05Liver\n",
       "2018-08-06  Liverpool  1913.885986  2018-08-06Liver\n",
       "2018-08-07  Liverpool  1913.885986  2018-08-07Liver\n",
       "2018-08-08  Liverpool  1913.885986  2018-08-08Liver\n",
       "2018-08-09  Liverpool  1914.838867  2018-08-09Liver\n",
       "2018-08-10  Liverpool  1914.838867  2018-08-10Liver\n",
       "2018-08-11  Liverpool  1915.229004  2018-08-11Liver\n",
       "2018-08-12  Liverpool  1915.229004  2018-08-12Liver\n",
       "2018-08-13  Liverpool  1915.229004  2018-08-13Liver\n",
       "2018-08-14  Liverpool  1915.229004  2018-08-14Liver"
      ]
     },
     "execution_count": 23,
     "metadata": {},
     "output_type": "execute_result"
    }
   ],
   "source": [
    "ELO.head(20)"
   ]
  },
  {
   "cell_type": "code",
   "execution_count": 24,
   "metadata": {},
   "outputs": [],
   "source": [
    "final = pd.merge(left = ELO, right = standings, left_on = 'Link', right_on = 'Link', how = 'left')"
   ]
  },
  {
   "cell_type": "code",
   "execution_count": 25,
   "metadata": {
    "scrolled": true
   },
   "outputs": [
    {
     "data": {
      "text/plain": [
       "Club                  0\n",
       "Elo                   0\n",
       "Link                  0\n",
       "Position           3349\n",
       "Team               3349\n",
       "Points             3349\n",
       "Goal_Difference    3349\n",
       "Played             3349\n",
       "Date               3349\n",
       "dtype: int64"
      ]
     },
     "execution_count": 25,
     "metadata": {},
     "output_type": "execute_result"
    }
   ],
   "source": [
    "final.isnull().sum()"
   ]
  },
  {
   "cell_type": "code",
   "execution_count": 26,
   "metadata": {},
   "outputs": [
    {
     "data": {
      "text/plain": [
       "(11841, 9)"
      ]
     },
     "execution_count": 26,
     "metadata": {},
     "output_type": "execute_result"
    }
   ],
   "source": [
    "final.shape"
   ]
  },
  {
   "cell_type": "code",
   "execution_count": 27,
   "metadata": {},
   "outputs": [],
   "source": [
    "df = final.ffill()"
   ]
  },
  {
   "cell_type": "code",
   "execution_count": 28,
   "metadata": {},
   "outputs": [
    {
     "data": {
      "text/plain": [
       "90"
      ]
     },
     "execution_count": 28,
     "metadata": {},
     "output_type": "execute_result"
    }
   ],
   "source": [
    "df.isnull().sum().sum()"
   ]
  },
  {
   "cell_type": "code",
   "execution_count": 29,
   "metadata": {},
   "outputs": [
    {
     "data": {
      "text/plain": [
       "Club                0\n",
       "Elo                 0\n",
       "Link                0\n",
       "Position           15\n",
       "Team               15\n",
       "Points             15\n",
       "Goal_Difference    15\n",
       "Played             15\n",
       "Date               15\n",
       "dtype: int64"
      ]
     },
     "execution_count": 29,
     "metadata": {},
     "output_type": "execute_result"
    }
   ],
   "source": [
    "df.isnull().sum()"
   ]
  },
  {
   "cell_type": "code",
   "execution_count": 30,
   "metadata": {},
   "outputs": [],
   "source": [
    "df.dropna(axis = 0, inplace = True)"
   ]
  },
  {
   "cell_type": "code",
   "execution_count": 31,
   "metadata": {},
   "outputs": [],
   "source": [
    "LP_ELO = df.to_csv('../CSV/LP_ELO.csv', index=False)"
   ]
  },
  {
   "cell_type": "code",
   "execution_count": 32,
   "metadata": {
    "scrolled": true
   },
   "outputs": [
    {
     "data": {
      "text/html": [
       "<div>\n",
       "<style scoped>\n",
       "    .dataframe tbody tr th:only-of-type {\n",
       "        vertical-align: middle;\n",
       "    }\n",
       "\n",
       "    .dataframe tbody tr th {\n",
       "        vertical-align: top;\n",
       "    }\n",
       "\n",
       "    .dataframe thead th {\n",
       "        text-align: right;\n",
       "    }\n",
       "</style>\n",
       "<table border=\"1\" class=\"dataframe\">\n",
       "  <thead>\n",
       "    <tr style=\"text-align: right;\">\n",
       "      <th></th>\n",
       "      <th>Club</th>\n",
       "      <th>Elo</th>\n",
       "      <th>Link</th>\n",
       "      <th>Position</th>\n",
       "      <th>Team</th>\n",
       "      <th>Points</th>\n",
       "      <th>Goal_Difference</th>\n",
       "      <th>Played</th>\n",
       "      <th>Date</th>\n",
       "    </tr>\n",
       "  </thead>\n",
       "  <tbody>\n",
       "    <tr>\n",
       "      <th>15</th>\n",
       "      <td>Liverpool</td>\n",
       "      <td>1914.838867</td>\n",
       "      <td>2018-08-10Liver</td>\n",
       "      <td>1.0</td>\n",
       "      <td>Liverpool</td>\n",
       "      <td>0.0</td>\n",
       "      <td>0.0</td>\n",
       "      <td>0.0</td>\n",
       "      <td>2018-08-10</td>\n",
       "    </tr>\n",
       "    <tr>\n",
       "      <th>16</th>\n",
       "      <td>Liverpool</td>\n",
       "      <td>1915.229004</td>\n",
       "      <td>2018-08-11Liver</td>\n",
       "      <td>1.0</td>\n",
       "      <td>Liverpool</td>\n",
       "      <td>0.0</td>\n",
       "      <td>0.0</td>\n",
       "      <td>0.0</td>\n",
       "      <td>2018-08-10</td>\n",
       "    </tr>\n",
       "    <tr>\n",
       "      <th>17</th>\n",
       "      <td>Liverpool</td>\n",
       "      <td>1915.229004</td>\n",
       "      <td>2018-08-12Liver</td>\n",
       "      <td>1.0</td>\n",
       "      <td>Liverpool</td>\n",
       "      <td>0.0</td>\n",
       "      <td>0.0</td>\n",
       "      <td>0.0</td>\n",
       "      <td>2018-08-10</td>\n",
       "    </tr>\n",
       "    <tr>\n",
       "      <th>18</th>\n",
       "      <td>Liverpool</td>\n",
       "      <td>1915.229004</td>\n",
       "      <td>2018-08-13Liver</td>\n",
       "      <td>1.0</td>\n",
       "      <td>Liverpool</td>\n",
       "      <td>3.0</td>\n",
       "      <td>4.0</td>\n",
       "      <td>1.0</td>\n",
       "      <td>2018-08-13</td>\n",
       "    </tr>\n",
       "    <tr>\n",
       "      <th>19</th>\n",
       "      <td>Liverpool</td>\n",
       "      <td>1915.229004</td>\n",
       "      <td>2018-08-14Liver</td>\n",
       "      <td>1.0</td>\n",
       "      <td>Liverpool</td>\n",
       "      <td>3.0</td>\n",
       "      <td>4.0</td>\n",
       "      <td>1.0</td>\n",
       "      <td>2018-08-14</td>\n",
       "    </tr>\n",
       "    <tr>\n",
       "      <th>20</th>\n",
       "      <td>Liverpool</td>\n",
       "      <td>1915.229004</td>\n",
       "      <td>2018-08-15Liver</td>\n",
       "      <td>1.0</td>\n",
       "      <td>Liverpool</td>\n",
       "      <td>3.0</td>\n",
       "      <td>4.0</td>\n",
       "      <td>1.0</td>\n",
       "      <td>2018-08-15</td>\n",
       "    </tr>\n",
       "    <tr>\n",
       "      <th>21</th>\n",
       "      <td>Liverpool</td>\n",
       "      <td>1918.966187</td>\n",
       "      <td>2018-08-16Liver</td>\n",
       "      <td>1.0</td>\n",
       "      <td>Liverpool</td>\n",
       "      <td>3.0</td>\n",
       "      <td>4.0</td>\n",
       "      <td>1.0</td>\n",
       "      <td>2018-08-16</td>\n",
       "    </tr>\n",
       "    <tr>\n",
       "      <th>22</th>\n",
       "      <td>Liverpool</td>\n",
       "      <td>1918.966187</td>\n",
       "      <td>2018-08-17Liver</td>\n",
       "      <td>1.0</td>\n",
       "      <td>Liverpool</td>\n",
       "      <td>3.0</td>\n",
       "      <td>4.0</td>\n",
       "      <td>1.0</td>\n",
       "      <td>2018-08-17</td>\n",
       "    </tr>\n",
       "    <tr>\n",
       "      <th>23</th>\n",
       "      <td>Liverpool</td>\n",
       "      <td>1918.966187</td>\n",
       "      <td>2018-08-18Liver</td>\n",
       "      <td>1.0</td>\n",
       "      <td>Liverpool</td>\n",
       "      <td>3.0</td>\n",
       "      <td>4.0</td>\n",
       "      <td>1.0</td>\n",
       "      <td>2018-08-18</td>\n",
       "    </tr>\n",
       "    <tr>\n",
       "      <th>24</th>\n",
       "      <td>Liverpool</td>\n",
       "      <td>1918.966187</td>\n",
       "      <td>2018-08-19Liver</td>\n",
       "      <td>5.0</td>\n",
       "      <td>Liverpool</td>\n",
       "      <td>3.0</td>\n",
       "      <td>4.0</td>\n",
       "      <td>1.0</td>\n",
       "      <td>2018-08-19</td>\n",
       "    </tr>\n",
       "    <tr>\n",
       "      <th>25</th>\n",
       "      <td>Liverpool</td>\n",
       "      <td>1921.720703</td>\n",
       "      <td>2018-08-20Liver</td>\n",
       "      <td>7.0</td>\n",
       "      <td>Liverpool</td>\n",
       "      <td>3.0</td>\n",
       "      <td>4.0</td>\n",
       "      <td>1.0</td>\n",
       "      <td>2018-08-20</td>\n",
       "    </tr>\n",
       "    <tr>\n",
       "      <th>26</th>\n",
       "      <td>Liverpool</td>\n",
       "      <td>1921.720703</td>\n",
       "      <td>2018-08-21Liver</td>\n",
       "      <td>2.0</td>\n",
       "      <td>Liverpool</td>\n",
       "      <td>6.0</td>\n",
       "      <td>6.0</td>\n",
       "      <td>2.0</td>\n",
       "      <td>2018-08-21</td>\n",
       "    </tr>\n",
       "    <tr>\n",
       "      <th>27</th>\n",
       "      <td>Liverpool</td>\n",
       "      <td>1921.720703</td>\n",
       "      <td>2018-08-22Liver</td>\n",
       "      <td>2.0</td>\n",
       "      <td>Liverpool</td>\n",
       "      <td>6.0</td>\n",
       "      <td>6.0</td>\n",
       "      <td>2.0</td>\n",
       "      <td>2018-08-22</td>\n",
       "    </tr>\n",
       "    <tr>\n",
       "      <th>28</th>\n",
       "      <td>Liverpool</td>\n",
       "      <td>1927.765015</td>\n",
       "      <td>2018-08-23Liver</td>\n",
       "      <td>2.0</td>\n",
       "      <td>Liverpool</td>\n",
       "      <td>6.0</td>\n",
       "      <td>6.0</td>\n",
       "      <td>2.0</td>\n",
       "      <td>2018-08-23</td>\n",
       "    </tr>\n",
       "    <tr>\n",
       "      <th>29</th>\n",
       "      <td>Liverpool</td>\n",
       "      <td>1927.765015</td>\n",
       "      <td>2018-08-24Liver</td>\n",
       "      <td>2.0</td>\n",
       "      <td>Liverpool</td>\n",
       "      <td>6.0</td>\n",
       "      <td>6.0</td>\n",
       "      <td>2.0</td>\n",
       "      <td>2018-08-24</td>\n",
       "    </tr>\n",
       "    <tr>\n",
       "      <th>30</th>\n",
       "      <td>Liverpool</td>\n",
       "      <td>1923.995850</td>\n",
       "      <td>2018-08-25Liver</td>\n",
       "      <td>2.0</td>\n",
       "      <td>Liverpool</td>\n",
       "      <td>6.0</td>\n",
       "      <td>6.0</td>\n",
       "      <td>2.0</td>\n",
       "      <td>2018-08-25</td>\n",
       "    </tr>\n",
       "    <tr>\n",
       "      <th>31</th>\n",
       "      <td>Liverpool</td>\n",
       "      <td>1923.995850</td>\n",
       "      <td>2018-08-26Liver</td>\n",
       "      <td>1.0</td>\n",
       "      <td>Liverpool</td>\n",
       "      <td>9.0</td>\n",
       "      <td>7.0</td>\n",
       "      <td>3.0</td>\n",
       "      <td>2018-08-26</td>\n",
       "    </tr>\n",
       "    <tr>\n",
       "      <th>32</th>\n",
       "      <td>Liverpool</td>\n",
       "      <td>1925.509888</td>\n",
       "      <td>2018-08-27Liver</td>\n",
       "      <td>1.0</td>\n",
       "      <td>Liverpool</td>\n",
       "      <td>9.0</td>\n",
       "      <td>7.0</td>\n",
       "      <td>3.0</td>\n",
       "      <td>2018-08-27</td>\n",
       "    </tr>\n",
       "    <tr>\n",
       "      <th>33</th>\n",
       "      <td>Liverpool</td>\n",
       "      <td>1925.509888</td>\n",
       "      <td>2018-08-28Liver</td>\n",
       "      <td>1.0</td>\n",
       "      <td>Liverpool</td>\n",
       "      <td>9.0</td>\n",
       "      <td>7.0</td>\n",
       "      <td>3.0</td>\n",
       "      <td>2018-08-28</td>\n",
       "    </tr>\n",
       "    <tr>\n",
       "      <th>34</th>\n",
       "      <td>Liverpool</td>\n",
       "      <td>1925.509888</td>\n",
       "      <td>2018-08-29Liver</td>\n",
       "      <td>1.0</td>\n",
       "      <td>Liverpool</td>\n",
       "      <td>9.0</td>\n",
       "      <td>7.0</td>\n",
       "      <td>3.0</td>\n",
       "      <td>2018-08-29</td>\n",
       "    </tr>\n",
       "  </tbody>\n",
       "</table>\n",
       "</div>"
      ],
      "text/plain": [
       "         Club          Elo             Link  Position       Team  Points  \\\n",
       "15  Liverpool  1914.838867  2018-08-10Liver       1.0  Liverpool     0.0   \n",
       "16  Liverpool  1915.229004  2018-08-11Liver       1.0  Liverpool     0.0   \n",
       "17  Liverpool  1915.229004  2018-08-12Liver       1.0  Liverpool     0.0   \n",
       "18  Liverpool  1915.229004  2018-08-13Liver       1.0  Liverpool     3.0   \n",
       "19  Liverpool  1915.229004  2018-08-14Liver       1.0  Liverpool     3.0   \n",
       "20  Liverpool  1915.229004  2018-08-15Liver       1.0  Liverpool     3.0   \n",
       "21  Liverpool  1918.966187  2018-08-16Liver       1.0  Liverpool     3.0   \n",
       "22  Liverpool  1918.966187  2018-08-17Liver       1.0  Liverpool     3.0   \n",
       "23  Liverpool  1918.966187  2018-08-18Liver       1.0  Liverpool     3.0   \n",
       "24  Liverpool  1918.966187  2018-08-19Liver       5.0  Liverpool     3.0   \n",
       "25  Liverpool  1921.720703  2018-08-20Liver       7.0  Liverpool     3.0   \n",
       "26  Liverpool  1921.720703  2018-08-21Liver       2.0  Liverpool     6.0   \n",
       "27  Liverpool  1921.720703  2018-08-22Liver       2.0  Liverpool     6.0   \n",
       "28  Liverpool  1927.765015  2018-08-23Liver       2.0  Liverpool     6.0   \n",
       "29  Liverpool  1927.765015  2018-08-24Liver       2.0  Liverpool     6.0   \n",
       "30  Liverpool  1923.995850  2018-08-25Liver       2.0  Liverpool     6.0   \n",
       "31  Liverpool  1923.995850  2018-08-26Liver       1.0  Liverpool     9.0   \n",
       "32  Liverpool  1925.509888  2018-08-27Liver       1.0  Liverpool     9.0   \n",
       "33  Liverpool  1925.509888  2018-08-28Liver       1.0  Liverpool     9.0   \n",
       "34  Liverpool  1925.509888  2018-08-29Liver       1.0  Liverpool     9.0   \n",
       "\n",
       "    Goal_Difference  Played        Date  \n",
       "15              0.0     0.0  2018-08-10  \n",
       "16              0.0     0.0  2018-08-10  \n",
       "17              0.0     0.0  2018-08-10  \n",
       "18              4.0     1.0  2018-08-13  \n",
       "19              4.0     1.0  2018-08-14  \n",
       "20              4.0     1.0  2018-08-15  \n",
       "21              4.0     1.0  2018-08-16  \n",
       "22              4.0     1.0  2018-08-17  \n",
       "23              4.0     1.0  2018-08-18  \n",
       "24              4.0     1.0  2018-08-19  \n",
       "25              4.0     1.0  2018-08-20  \n",
       "26              6.0     2.0  2018-08-21  \n",
       "27              6.0     2.0  2018-08-22  \n",
       "28              6.0     2.0  2018-08-23  \n",
       "29              6.0     2.0  2018-08-24  \n",
       "30              6.0     2.0  2018-08-25  \n",
       "31              7.0     3.0  2018-08-26  \n",
       "32              7.0     3.0  2018-08-27  \n",
       "33              7.0     3.0  2018-08-28  \n",
       "34              7.0     3.0  2018-08-29  "
      ]
     },
     "execution_count": 32,
     "metadata": {},
     "output_type": "execute_result"
    }
   ],
   "source": [
    "df.head(20) #just to have a look and see if all is in order"
   ]
  },
  {
   "cell_type": "code",
   "execution_count": null,
   "metadata": {},
   "outputs": [],
   "source": []
  }
 ],
 "metadata": {
  "kernelspec": {
   "display_name": "Python 3",
   "language": "python",
   "name": "python3"
  },
  "language_info": {
   "codemirror_mode": {
    "name": "ipython",
    "version": 3
   },
   "file_extension": ".py",
   "mimetype": "text/x-python",
   "name": "python",
   "nbconvert_exporter": "python",
   "pygments_lexer": "ipython3",
   "version": "3.7.3"
  }
 },
 "nbformat": 4,
 "nbformat_minor": 2
}
