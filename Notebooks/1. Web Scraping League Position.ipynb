{
 "cells": [
  {
   "cell_type": "code",
   "execution_count": 1,
   "metadata": {},
   "outputs": [],
   "source": [
    "import pandas as pd\n",
    "import numpy as np\n",
    "from bs4 import BeautifulSoup\n",
    "import requests\n",
    "from tqdm import tqdm_notebook"
   ]
  },
  {
   "cell_type": "code",
   "execution_count": 2,
   "metadata": {},
   "outputs": [],
   "source": [
    "days = ['01', '02', '03', '04', '05', '06', '07', '08', '09'] + list(range(10, 32)) #2 digits are always required\n",
    "list1 = ['Aug', 'Sep', 'Oct', 'Nov', 'Dec']\n",
    "list2 = ['Jan', 'Feb', 'Mar', 'Apr', 'May']\n",
    "\n",
    "month_dict = {\n",
    "    'Jan': '01',\n",
    "    'Feb': '02',\n",
    "    'Mar': '03',\n",
    "    'Apr': '04',\n",
    "    'May': '05',\n",
    "    'Jun': '06',\n",
    "    'Jul': '07',\n",
    "    'Aug': '08',\n",
    "    'Sep': '09',\n",
    "    'Oct': '10',\n",
    "    'Nov': '11',\n",
    "    'Dec': '12'\n",
    "}"
   ]
  },
  {
   "cell_type": "markdown",
   "metadata": {},
   "source": [
    "## Extracting league table data from beginning of last season until now"
   ]
  },
  {
   "cell_type": "code",
   "execution_count": 4,
   "metadata": {},
   "outputs": [
    {
     "data": {
      "application/vnd.jupyter.widget-view+json": {
       "model_id": "48cb2ebcd9d64a5f8ac752fb31573f53",
       "version_major": 2,
       "version_minor": 0
      },
      "text/plain": [
       "HBox(children=(IntProgress(value=0, max=5), HTML(value='')))"
      ]
     },
     "metadata": {},
     "output_type": "display_data"
    },
    {
     "data": {
      "application/vnd.jupyter.widget-view+json": {
       "model_id": "8db35ffc90be4b49a5624211b944707b",
       "version_major": 2,
       "version_minor": 0
      },
      "text/plain": [
       "HBox(children=(IntProgress(value=0, max=31), HTML(value='')))"
      ]
     },
     "metadata": {},
     "output_type": "display_data"
    },
    {
     "data": {
      "application/vnd.jupyter.widget-view+json": {
       "model_id": "35bacce1fce44c10b6a6862f394d6243",
       "version_major": 2,
       "version_minor": 0
      },
      "text/plain": [
       "HBox(children=(IntProgress(value=0, max=31), HTML(value='')))"
      ]
     },
     "metadata": {},
     "output_type": "display_data"
    },
    {
     "data": {
      "application/vnd.jupyter.widget-view+json": {
       "model_id": "876f1ca212ed4176bd60b7e264d756bc",
       "version_major": 2,
       "version_minor": 0
      },
      "text/plain": [
       "HBox(children=(IntProgress(value=0, max=31), HTML(value='')))"
      ]
     },
     "metadata": {},
     "output_type": "display_data"
    },
    {
     "data": {
      "application/vnd.jupyter.widget-view+json": {
       "model_id": "206dffd1f3454759b461d79e51d9386f",
       "version_major": 2,
       "version_minor": 0
      },
      "text/plain": [
       "HBox(children=(IntProgress(value=0, max=31), HTML(value='')))"
      ]
     },
     "metadata": {},
     "output_type": "display_data"
    },
    {
     "data": {
      "application/vnd.jupyter.widget-view+json": {
       "model_id": "1aff07a3a6dc47cdbc93bec30a0a828b",
       "version_major": 2,
       "version_minor": 0
      },
      "text/plain": [
       "HBox(children=(IntProgress(value=0, max=31), HTML(value='')))"
      ]
     },
     "metadata": {},
     "output_type": "display_data"
    },
    {
     "name": "stdout",
     "output_type": "stream",
     "text": [
      "\n"
     ]
    },
    {
     "data": {
      "application/vnd.jupyter.widget-view+json": {
       "model_id": "50c884f8c6644f6f8031332c3964a70b",
       "version_major": 2,
       "version_minor": 0
      },
      "text/plain": [
       "HBox(children=(IntProgress(value=0, max=5), HTML(value='')))"
      ]
     },
     "metadata": {},
     "output_type": "display_data"
    },
    {
     "data": {
      "application/vnd.jupyter.widget-view+json": {
       "model_id": "bc3f597af3aa424193acd8a063868788",
       "version_major": 2,
       "version_minor": 0
      },
      "text/plain": [
       "HBox(children=(IntProgress(value=0, max=31), HTML(value='')))"
      ]
     },
     "metadata": {},
     "output_type": "display_data"
    },
    {
     "data": {
      "application/vnd.jupyter.widget-view+json": {
       "model_id": "d1369af2af36448ca9be0ce0c9f54ad9",
       "version_major": 2,
       "version_minor": 0
      },
      "text/plain": [
       "HBox(children=(IntProgress(value=0, max=31), HTML(value='')))"
      ]
     },
     "metadata": {},
     "output_type": "display_data"
    },
    {
     "data": {
      "application/vnd.jupyter.widget-view+json": {
       "model_id": "7422024621824fbcb1859e4b39bac1d6",
       "version_major": 2,
       "version_minor": 0
      },
      "text/plain": [
       "HBox(children=(IntProgress(value=0, max=31), HTML(value='')))"
      ]
     },
     "metadata": {},
     "output_type": "display_data"
    },
    {
     "data": {
      "application/vnd.jupyter.widget-view+json": {
       "model_id": "15c6440f4d1f4026b4b7f0328929d7b4",
       "version_major": 2,
       "version_minor": 0
      },
      "text/plain": [
       "HBox(children=(IntProgress(value=0, max=31), HTML(value='')))"
      ]
     },
     "metadata": {},
     "output_type": "display_data"
    },
    {
     "data": {
      "application/vnd.jupyter.widget-view+json": {
       "model_id": "74504d112a7d405f953d3257291aeab0",
       "version_major": 2,
       "version_minor": 0
      },
      "text/plain": [
       "HBox(children=(IntProgress(value=0, max=31), HTML(value='')))"
      ]
     },
     "metadata": {},
     "output_type": "display_data"
    },
    {
     "name": "stdout",
     "output_type": "stream",
     "text": [
      "\n"
     ]
    }
   ],
   "source": [
    "position = []\n",
    "Club = []\n",
    "GD = []\n",
    "Points = []\n",
    "Played = []\n",
    "Dates = []\n",
    "\n",
    "for x in tqdm_notebook(list1):\n",
    "    for y in tqdm_notebook(days):\n",
    "    \n",
    "        url = 'https://www.twtd.co.uk/league-tables/competition:premier-league/daterange/fromdate:2018-Aug-01/todate:2018-{}-{}/type:home-and-away/'.format(x, y)\n",
    "        r = requests.get(url)\n",
    "        soup = BeautifulSoup(r.text, 'html.parser')\n",
    "\n",
    "        #for each web page, iterate through the teams extracting their name, position and goal difference\n",
    "        \n",
    "        table = soup.find('table', attrs = {'class': 'leaguetable'})\n",
    "        for team in table.find_all('tr')[1:]:\n",
    "            try:\n",
    "                position.append(team.find_all('td')[0].text)\n",
    "            except:\n",
    "                position.append(np.nan)\n",
    "\n",
    "            try:\n",
    "                Club.append(team.find_all('td')[1].text.strip())\n",
    "            except:\n",
    "                Club.append(np.nan)\n",
    "                \n",
    "            try:\n",
    "                Played.append(team.find_all('td')[2].text)\n",
    "            except:\n",
    "                Played.append(np.nan)\n",
    "\n",
    "            try:\n",
    "                GD.append(team.find_all('td')[-2].text)\n",
    "            except:\n",
    "                GD.append(np.nan)\n",
    "\n",
    "            try:\n",
    "                Points.append(team.find_all('td')[-1].text)\n",
    "            except:\n",
    "                Points.append(np.nan)\n",
    "        \n",
    "        \n",
    "               \n",
    "            Dates.append('2018-{}-{}'.format(month_dict[x], y))\n",
    "\n",
    "    \n",
    "for x in tqdm_notebook(list2):\n",
    "    for y in tqdm_notebook(days):\n",
    "    \n",
    "        url = 'https://www.twtd.co.uk/league-tables/competition:premier-league/daterange/fromdate:2018-Aug-01/todate:2019-{}-{}/type:home-and-away/'.format(x, y)\n",
    "        r = requests.get(url)\n",
    "        soup = BeautifulSoup(r.text, 'html.parser')\n",
    "\n",
    "        #for each web page, iterate through the teams extracting their name, position and goal difference\n",
    "        \n",
    "        table = soup.find('table', attrs = {'class': 'leaguetable'})\n",
    "        for team in table.find_all('tr')[1:]:\n",
    "            try:\n",
    "                position.append(team.find_all('td')[0].text)\n",
    "            except:\n",
    "                position.append(np.nan)\n",
    "\n",
    "            try:\n",
    "                Club.append(team.find_all('td')[1].text.strip())\n",
    "            except:\n",
    "                Club.append(np.nan)\n",
    "                \n",
    "            try:\n",
    "                Played.append(team.find_all('td')[2].text)\n",
    "            except:\n",
    "                Played.append(np.nan)\n",
    "\n",
    "            try:\n",
    "                GD.append(team.find_all('td')[-2].text)\n",
    "            except:\n",
    "                GD.append(np.nan)\n",
    "\n",
    "            try:\n",
    "                Points.append(team.find_all('td')[-1].text)\n",
    "            except:\n",
    "                Points.append(np.nan)\n",
    "        \n",
    "        \n",
    "               \n",
    "            Dates.append('2019-{}-{}'.format(month_dict[x], y))    \n",
    "    \n",
    "\n",
    "League_Positions = pd.DataFrame({'Position': position,\n",
    "                                 'Team': Club,\n",
    "                                 'Points': Points,\n",
    "                                 'Goal_Difference' : GD,\n",
    "                                 'Played': Played,\n",
    "                                 'Date' : Dates\n",
    "                                 })    \n"
   ]
  },
  {
   "cell_type": "code",
   "execution_count": 5,
   "metadata": {},
   "outputs": [
    {
     "data": {
      "application/vnd.jupyter.widget-view+json": {
       "model_id": "ddbf3808c9e5435a9b9df3b17185a327",
       "version_major": 2,
       "version_minor": 0
      },
      "text/plain": [
       "HBox(children=(IntProgress(value=0, max=5), HTML(value='')))"
      ]
     },
     "metadata": {},
     "output_type": "display_data"
    },
    {
     "data": {
      "application/vnd.jupyter.widget-view+json": {
       "model_id": "458602d8ab79430bb1873f9fba84a12d",
       "version_major": 2,
       "version_minor": 0
      },
      "text/plain": [
       "HBox(children=(IntProgress(value=0, max=31), HTML(value='')))"
      ]
     },
     "metadata": {},
     "output_type": "display_data"
    },
    {
     "data": {
      "application/vnd.jupyter.widget-view+json": {
       "model_id": "aa3f0cd27f134206849dbc86c01b8423",
       "version_major": 2,
       "version_minor": 0
      },
      "text/plain": [
       "HBox(children=(IntProgress(value=0, max=31), HTML(value='')))"
      ]
     },
     "metadata": {},
     "output_type": "display_data"
    },
    {
     "data": {
      "application/vnd.jupyter.widget-view+json": {
       "model_id": "7610a89eddd946c18df57f486999eb78",
       "version_major": 2,
       "version_minor": 0
      },
      "text/plain": [
       "HBox(children=(IntProgress(value=0, max=31), HTML(value='')))"
      ]
     },
     "metadata": {},
     "output_type": "display_data"
    },
    {
     "data": {
      "application/vnd.jupyter.widget-view+json": {
       "model_id": "18cbb6e453004336937595e40a5a8cf0",
       "version_major": 2,
       "version_minor": 0
      },
      "text/plain": [
       "HBox(children=(IntProgress(value=0, max=31), HTML(value='')))"
      ]
     },
     "metadata": {},
     "output_type": "display_data"
    },
    {
     "data": {
      "application/vnd.jupyter.widget-view+json": {
       "model_id": "321750bb6bc44455bcc81354a5078165",
       "version_major": 2,
       "version_minor": 0
      },
      "text/plain": [
       "HBox(children=(IntProgress(value=0, max=31), HTML(value='')))"
      ]
     },
     "metadata": {},
     "output_type": "display_data"
    },
    {
     "name": "stdout",
     "output_type": "stream",
     "text": [
      "\n"
     ]
    }
   ],
   "source": [
    "position = []\n",
    "Club = []\n",
    "GD = []\n",
    "Points = []\n",
    "Played = []\n",
    "Dates = []\n",
    "\n",
    "for x in tqdm_notebook(list1):\n",
    "    for y in tqdm_notebook(days):\n",
    "    \n",
    "        url = 'https://www.twtd.co.uk/league-tables/competition:premier-league/daterange/fromdate:2019-Aug-01/todate:2019-{}-{}/type:home-and-away/'.format(x, y)\n",
    "        r = requests.get(url)\n",
    "        soup = BeautifulSoup(r.text, 'html.parser')\n",
    "\n",
    "        #for each web page, iterate through the teams extracting their name, position and goal difference\n",
    "        \n",
    "        table = soup.find('table', attrs = {'class': 'leaguetable'})\n",
    "        for team in table.find_all('tr')[1:]:\n",
    "            try:\n",
    "                position.append(team.find_all('td')[0].text)\n",
    "            except:\n",
    "                position.append(np.nan)\n",
    "\n",
    "            try:\n",
    "                Club.append(team.find_all('td')[1].text.strip())\n",
    "            except:\n",
    "                Club.append(np.nan)\n",
    "                \n",
    "            try:\n",
    "                Played.append(team.find_all('td')[2].text)\n",
    "            except:\n",
    "                Played.append(np.nan)\n",
    "\n",
    "            try:\n",
    "                GD.append(team.find_all('td')[-2].text)\n",
    "            except:\n",
    "                GD.append(np.nan)\n",
    "\n",
    "            try:\n",
    "                Points.append(team.find_all('td')[-1].text)\n",
    "            except:\n",
    "                Points.append(np.nan)\n",
    "        \n",
    "        \n",
    "               \n",
    "            Dates.append('2019-{}-{}'.format(month_dict[x], y))\n",
    "    \n",
    "    \n",
    "    \n",
    "League_Positions2 = pd.DataFrame({'Position': position,\n",
    "                                 'Team': Club,\n",
    "                                 'Points': Points,\n",
    "                                 'Goal_Difference' : GD,\n",
    "                                 'Played': Played,\n",
    "                                 'Date' : Dates\n",
    "                                 })"
   ]
  },
  {
   "cell_type": "code",
   "execution_count": 6,
   "metadata": {
    "scrolled": true
   },
   "outputs": [
    {
     "data": {
      "text/html": [
       "<div>\n",
       "<style scoped>\n",
       "    .dataframe tbody tr th:only-of-type {\n",
       "        vertical-align: middle;\n",
       "    }\n",
       "\n",
       "    .dataframe tbody tr th {\n",
       "        vertical-align: top;\n",
       "    }\n",
       "\n",
       "    .dataframe thead th {\n",
       "        text-align: right;\n",
       "    }\n",
       "</style>\n",
       "<table border=\"1\" class=\"dataframe\">\n",
       "  <thead>\n",
       "    <tr style=\"text-align: right;\">\n",
       "      <th></th>\n",
       "      <th>Position</th>\n",
       "      <th>Team</th>\n",
       "      <th>Points</th>\n",
       "      <th>Goal_Difference</th>\n",
       "      <th>Played</th>\n",
       "      <th>Date</th>\n",
       "    </tr>\n",
       "  </thead>\n",
       "  <tbody>\n",
       "    <tr>\n",
       "      <th>0</th>\n",
       "      <td>1</td>\n",
       "      <td>Liverpool</td>\n",
       "      <td>3</td>\n",
       "      <td>3</td>\n",
       "      <td>1</td>\n",
       "      <td>2019-08-10</td>\n",
       "    </tr>\n",
       "    <tr>\n",
       "      <th>1</th>\n",
       "      <td>2</td>\n",
       "      <td>Norwich City</td>\n",
       "      <td>0</td>\n",
       "      <td>-3</td>\n",
       "      <td>1</td>\n",
       "      <td>2019-08-10</td>\n",
       "    </tr>\n",
       "    <tr>\n",
       "      <th>2</th>\n",
       "      <td>1</td>\n",
       "      <td>Manchester City</td>\n",
       "      <td>3</td>\n",
       "      <td>5</td>\n",
       "      <td>1</td>\n",
       "      <td>2019-08-11</td>\n",
       "    </tr>\n",
       "    <tr>\n",
       "      <th>3</th>\n",
       "      <td>2</td>\n",
       "      <td>Liverpool</td>\n",
       "      <td>3</td>\n",
       "      <td>3</td>\n",
       "      <td>1</td>\n",
       "      <td>2019-08-11</td>\n",
       "    </tr>\n",
       "    <tr>\n",
       "      <th>4</th>\n",
       "      <td>3</td>\n",
       "      <td>Brighton and Hove Albion</td>\n",
       "      <td>3</td>\n",
       "      <td>3</td>\n",
       "      <td>1</td>\n",
       "      <td>2019-08-11</td>\n",
       "    </tr>\n",
       "  </tbody>\n",
       "</table>\n",
       "</div>"
      ],
      "text/plain": [
       "  Position                      Team Points Goal_Difference Played        Date\n",
       "0        1                 Liverpool      3               3      1  2019-08-10\n",
       "1        2              Norwich City      0              -3      1  2019-08-10\n",
       "2        1           Manchester City      3               5      1  2019-08-11\n",
       "3        2                 Liverpool      3               3      1  2019-08-11\n",
       "4        3  Brighton and Hove Albion      3               3      1  2019-08-11"
      ]
     },
     "execution_count": 6,
     "metadata": {},
     "output_type": "execute_result"
    }
   ],
   "source": [
    "League_Positions2.head()"
   ]
  },
  {
   "cell_type": "code",
   "execution_count": 7,
   "metadata": {},
   "outputs": [],
   "source": [
    "#create Game_Week 0 and shift the dates so that they match up\n",
    "# this ensures that all predictive data is only what was available before the match for both seasons\n",
    "Pos = list(np.repeat(1, 20))\n",
    "Tm1 = League_Positions.Team.sort_values().unique()\n",
    "Pnts = list(np.repeat(0, 20))\n",
    "GD = list(np.repeat(0, 20))\n",
    "GW = list(np.repeat(0, 20))\n",
    "F1 = list(np.repeat('2018-08-10', 20))\n",
    "\n",
    "\n",
    "GWzero1 = pd.DataFrame({'Position': Pos,\n",
    "                         'Team': Tm1,\n",
    "                         'Points': Pnts,\n",
    "                         'Goal_Difference' : GD,\n",
    "                         'Played': GW,\n",
    "                       'Date': F1,\n",
    "                       \n",
    "                                 })\n",
    "\n",
    "Tm2 = League_Positions2.Team.sort_values().unique()\n",
    "F2 = list(np.repeat('2019-08-09', 20))\n",
    "\n",
    "GWzero2 = pd.DataFrame({'Position': Pos,\n",
    "                         'Team': Tm2,\n",
    "                         'Points': Pnts,\n",
    "                         'Goal_Difference' : GD,\n",
    "                         'Played': GW,\n",
    "                       'Date': F2,\n",
    "                       \n",
    "                                 })"
   ]
  },
  {
   "cell_type": "code",
   "execution_count": 8,
   "metadata": {},
   "outputs": [],
   "source": [
    "df1 = pd.concat([GWzero1, League_Positions])\n",
    "df2 = pd.concat([GWzero2, League_Positions2])"
   ]
  },
  {
   "cell_type": "code",
   "execution_count": 9,
   "metadata": {},
   "outputs": [],
   "source": [
    "df = pd.concat([df1, df2])"
   ]
  },
  {
   "cell_type": "code",
   "execution_count": 10,
   "metadata": {},
   "outputs": [],
   "source": [
    "#League_Positions.Position.replace('\\xa0', np.nan, inplace = True)"
   ]
  },
  {
   "cell_type": "code",
   "execution_count": 11,
   "metadata": {},
   "outputs": [],
   "source": [
    "#League_Positions.Position.ffill(inplace = True)"
   ]
  },
  {
   "cell_type": "code",
   "execution_count": 12,
   "metadata": {},
   "outputs": [],
   "source": [
    "df.Position = df.Position.astype(int)\n",
    "df.Goal_Difference = df.Goal_Difference.astype(int)\n",
    "df.Points = df.Points.astype(int)"
   ]
  },
  {
   "cell_type": "code",
   "execution_count": 13,
   "metadata": {},
   "outputs": [],
   "source": [
    "try:    \n",
    "    df.Date = pd.to_datetime(df.Date, format='%Y/%m/%d')\n",
    "except:\n",
    "    pass\n",
    "#League_Positions.To = pd.to_datetime(League_Positions.To, format='%d/%m/%Y')\n",
    "#League_Positions.From.dt.strftime('%d/%m/%Y')"
   ]
  },
  {
   "cell_type": "code",
   "execution_count": 14,
   "metadata": {},
   "outputs": [
    {
     "data": {
      "text/html": [
       "<div>\n",
       "<style scoped>\n",
       "    .dataframe tbody tr th:only-of-type {\n",
       "        vertical-align: middle;\n",
       "    }\n",
       "\n",
       "    .dataframe tbody tr th {\n",
       "        vertical-align: top;\n",
       "    }\n",
       "\n",
       "    .dataframe thead th {\n",
       "        text-align: right;\n",
       "    }\n",
       "</style>\n",
       "<table border=\"1\" class=\"dataframe\">\n",
       "  <thead>\n",
       "    <tr style=\"text-align: right;\">\n",
       "      <th></th>\n",
       "      <th>Position</th>\n",
       "      <th>Team</th>\n",
       "      <th>Points</th>\n",
       "      <th>Goal_Difference</th>\n",
       "      <th>Played</th>\n",
       "      <th>Date</th>\n",
       "    </tr>\n",
       "  </thead>\n",
       "  <tbody>\n",
       "    <tr>\n",
       "      <th>0</th>\n",
       "      <td>1</td>\n",
       "      <td>AFC Bournemouth</td>\n",
       "      <td>0</td>\n",
       "      <td>0</td>\n",
       "      <td>0</td>\n",
       "      <td>2018-08-10</td>\n",
       "    </tr>\n",
       "    <tr>\n",
       "      <th>1</th>\n",
       "      <td>1</td>\n",
       "      <td>Arsenal</td>\n",
       "      <td>0</td>\n",
       "      <td>0</td>\n",
       "      <td>0</td>\n",
       "      <td>2018-08-10</td>\n",
       "    </tr>\n",
       "    <tr>\n",
       "      <th>2</th>\n",
       "      <td>1</td>\n",
       "      <td>Brighton and Hove Albion</td>\n",
       "      <td>0</td>\n",
       "      <td>0</td>\n",
       "      <td>0</td>\n",
       "      <td>2018-08-10</td>\n",
       "    </tr>\n",
       "    <tr>\n",
       "      <th>3</th>\n",
       "      <td>1</td>\n",
       "      <td>Burnley</td>\n",
       "      <td>0</td>\n",
       "      <td>0</td>\n",
       "      <td>0</td>\n",
       "      <td>2018-08-10</td>\n",
       "    </tr>\n",
       "    <tr>\n",
       "      <th>4</th>\n",
       "      <td>1</td>\n",
       "      <td>Cardiff City</td>\n",
       "      <td>0</td>\n",
       "      <td>0</td>\n",
       "      <td>0</td>\n",
       "      <td>2018-08-10</td>\n",
       "    </tr>\n",
       "  </tbody>\n",
       "</table>\n",
       "</div>"
      ],
      "text/plain": [
       "   Position                      Team  Points  Goal_Difference Played  \\\n",
       "0         1           AFC Bournemouth       0                0      0   \n",
       "1         1                   Arsenal       0                0      0   \n",
       "2         1  Brighton and Hove Albion       0                0      0   \n",
       "3         1                   Burnley       0                0      0   \n",
       "4         1              Cardiff City       0                0      0   \n",
       "\n",
       "         Date  \n",
       "0  2018-08-10  \n",
       "1  2018-08-10  \n",
       "2  2018-08-10  \n",
       "3  2018-08-10  \n",
       "4  2018-08-10  "
      ]
     },
     "execution_count": 14,
     "metadata": {},
     "output_type": "execute_result"
    }
   ],
   "source": [
    "df.head()"
   ]
  },
  {
   "cell_type": "code",
   "execution_count": 15,
   "metadata": {
    "scrolled": true
   },
   "outputs": [],
   "source": [
    "standings = df"
   ]
  },
  {
   "cell_type": "code",
   "execution_count": 16,
   "metadata": {
    "scrolled": false
   },
   "outputs": [
    {
     "data": {
      "text/plain": [
       "array(['AFC Bournemouth', 'Arsenal', 'Brighton and Hove Albion',\n",
       "       'Burnley', 'Cardiff City', 'Chelsea', 'Crystal Palace', 'Everton',\n",
       "       'Fulham', 'Huddersfield Town', 'Leicester City', 'Liverpool',\n",
       "       'Manchester City', 'Manchester United', 'Newcastle United',\n",
       "       'Southampton', 'Tottenham Hotspur', 'Watford', 'West Ham United',\n",
       "       'Wolverhampton Wanderers', 'Aston Villa', 'Norwich City',\n",
       "       'Sheffield United'], dtype=object)"
      ]
     },
     "execution_count": 16,
     "metadata": {},
     "output_type": "execute_result"
    }
   ],
   "source": [
    "standings.Team.unique()"
   ]
  },
  {
   "cell_type": "code",
   "execution_count": 17,
   "metadata": {
    "scrolled": true
   },
   "outputs": [],
   "source": [
    "#Alter any team names that are in the wrong format\n",
    "standings['Team'] = ['Bournemouth' if i == 'AFC Bournemouth' else i for i in standings['Team']]\n",
    "standings['Team'] = ['Man City' if i == 'Manchester City' else i for i in standings['Team']]\n",
    "standings['Team'] = ['Man United' if i == 'Manchester United' else i for i in standings['Team']]\n",
    "standings['Team'] = ['Tottenham' if i == 'Tottenham Hotspur' else i for i in standings['Team']]\n",
    "standings['Team'] = ['Wolves' if i == 'Wolverhampton Wanderers' else i for i in standings['Team']]\n",
    "standings['Team'] = ['Leicester' if i == 'Leicester City' else i for i in standings['Team']]\n",
    "standings['Team'] = ['Newcastle' if i == 'Newcastle United' else i for i in standings['Team']]\n",
    "standings['Team'] = ['Brighton' if i == 'Brighton and Hove Albion' else i for i in standings['Team']]\n",
    "standings['Team'] = ['Norwich' if i == 'Norwich City' else i for i in standings['Team']]\n",
    "standings['Team'] = ['West Ham' if i == 'West Ham United' else i for i in standings['Team']]\n",
    "standings['Team'] = ['Huddersfield' if i == 'Huddersfield Town' else i for i in standings['Team']]\n",
    "standings['Team'] = ['Cardiff' if i == 'Cardiff City' else i for i in standings['Team']]"
   ]
  },
  {
   "cell_type": "code",
   "execution_count": 20,
   "metadata": {},
   "outputs": [
    {
     "data": {
      "text/plain": [
       "0"
      ]
     },
     "execution_count": 20,
     "metadata": {},
     "output_type": "execute_result"
    }
   ],
   "source": [
    "standings.isnull().sum().sum() #double check the data frame is pure and clean"
   ]
  },
  {
   "cell_type": "code",
   "execution_count": 21,
   "metadata": {},
   "outputs": [],
   "source": [
    "LP = df.to_csv('../CSV/LP.csv', index=False)"
   ]
  },
  {
   "cell_type": "code",
   "execution_count": null,
   "metadata": {},
   "outputs": [],
   "source": []
  }
 ],
 "metadata": {
  "kernelspec": {
   "display_name": "Python 3",
   "language": "python",
   "name": "python3"
  },
  "language_info": {
   "codemirror_mode": {
    "name": "ipython",
    "version": 3
   },
   "file_extension": ".py",
   "mimetype": "text/x-python",
   "name": "python",
   "nbconvert_exporter": "python",
   "pygments_lexer": "ipython3",
   "version": "3.7.3"
  }
 },
 "nbformat": 4,
 "nbformat_minor": 2
}
